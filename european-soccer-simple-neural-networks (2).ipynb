{
 "cells": [
  {
   "cell_type": "markdown",
   "id": "eb62422e",
   "metadata": {
    "papermill": {
     "duration": 0.003176,
     "end_time": "2025-01-22T10:45:11.820231",
     "exception": false,
     "start_time": "2025-01-22T10:45:11.817055",
     "status": "completed"
    },
    "tags": []
   },
   "source": [
    "# European Soccer Database using simple neural network"
   ]
  },
  {
   "cell_type": "markdown",
   "id": "08155a3f",
   "metadata": {
    "papermill": {
     "duration": 0.002453,
     "end_time": "2025-01-22T10:45:11.825688",
     "exception": false,
     "start_time": "2025-01-22T10:45:11.823235",
     "status": "completed"
    },
    "tags": []
   },
   "source": [
    "![](https://img.freepik.com/free-photo/football-ball-disintegrating-with-copy-space_23-2150169914.jpg?t=st=1737542621~exp=1737546221~hmac=cbf1cdb4ab5e4b25193a8c66c4835bca9288ddbb3eb2fec9f1c7a0a0a2881cca&w=1060)"
   ]
  },
  {
   "cell_type": "markdown",
   "id": "bafa9545",
   "metadata": {
    "papermill": {
     "duration": 0.002332,
     "end_time": "2025-01-22T10:45:11.830532",
     "exception": false,
     "start_time": "2025-01-22T10:45:11.828200",
     "status": "completed"
    },
    "tags": []
   },
   "source": [
    "### European Soccer Database ⚽\n",
    "\n",
    "The **European Soccer Database** is a rich dataset that contains comprehensive information about European football (soccer) teams, players, and matches. The primary goal of analyzing this dataset is to gain insights into team and player performance, match outcomes, and historical trends. Here’s an overview of the types of data typically included and the analysis possibilities:\n",
    "\n",
    "---\n",
    "\n",
    "### Key Components 🔑:\n",
    "1. **Teams** 🏆:\n",
    "   - Data about **football teams**, including team names, countries, and leagues.\n",
    "   - Includes **team attributes**, such as squad size, skill ratings, and financial stats.\n",
    "\n",
    "2. **Players** ⚽:\n",
    "   - Data for individual **players**, including personal information like age, nationality, and position.\n",
    "   - Player **attributes** like skill ratings, height, weight, and performance metrics (goals, assists, etc.).\n",
    "\n",
    "3. **Matches** 🗓️:\n",
    "   - Information about **matches**, including match dates, teams involved, match outcomes, and scores.\n",
    "   - Includes **match events** (goals, red/yellow cards, substitutions, etc.).\n",
    "\n",
    "4. **Statistics** 📊:\n",
    "   - **Player performance stats** such as goals, assists, minutes played, shots on target, etc.\n",
    "   - **Team performance stats** such as win rates, points per match, and goals scored/conceded.\n",
    "\n",
    "---\n",
    "\n",
    "### Analytical Applications 📈:\n",
    "1. **Player Evaluation** 💡:\n",
    "   - By analyzing player attributes, we can predict player performance, transfer values, and even suggest potential signings based on comparative statistics.\n",
    "\n",
    "2. **Match Prediction** 🔮:\n",
    "   - Using historical data from past matches, predictive models can be built to forecast match outcomes (win, loss, or draw), based on team and player attributes.\n",
    "\n",
    "3. **Team Analysis** 🏅:\n",
    "   - Teams can be analyzed by metrics such as team strength, goals scored/conceded, average player performance, etc. This can help in performance benchmarking and tactical analysis.\n",
    "\n",
    "4. **Player Transfer Valuation** 💸:\n",
    "   - Machine learning models can be applied to estimate a player's market value based on past performance and attributes such as age, position, and overall ability.\n",
    "\n",
    "5. **Exploratory Data Analysis (EDA)** 🧑‍💻:\n",
    "   - Visualizing team performance over seasons, identifying patterns in goal-scoring trends, and understanding relationships between different player statistics.\n",
    "\n",
    "---\n",
    "\n",
    "### Simple Model Example 🧠:\n",
    "You can apply a simple **Neural Network (NN)** model to predict a **match outcome** or a **team's performance**. Here's a basic framework:\n",
    "- **Input**: Team and player stats for both teams in a match.\n",
    "- **Output**: Win, Draw, or Loss for the home team.\n",
    "- **Features**: Goals scored, goals conceded, player skill ratings, match location, etc.\n",
    "\n",
    "You would split the data into training and test sets, preprocess it (normalize/scale numerical features), and then use the Neural Network for classification.\n",
    "\n",
    "---\n",
    "\n",
    "### Example Use Cases 📚:\n",
    "1. **Predicting Match Outcomes** 🏁:\n",
    "   Using player and team statistics, a model can predict the likelihood of a win, loss, or draw in a match.\n",
    "\n",
    "2. **Player Performance Prediction** 📅:\n",
    "   Based on a player’s historical data (goals, assists, etc.), we can forecast future performance or even determine the player's potential growth trajectory.\n",
    "\n",
    "3. **Team Strength Analysis** 💪:\n",
    "   By aggregating player statistics, we can assess a team’s overall strength and predict its performance against other teams.\n",
    "\n",
    "---\n",
    "\n",
    "In conclusion, the European Soccer Database offers a vast amount of data that can be leveraged for numerous applications in football analytics, including match predictions, player scouting, and team analysis. ⚽📊"
   ]
  },
  {
   "cell_type": "code",
   "execution_count": 1,
   "id": "15f718dc",
   "metadata": {
    "execution": {
     "iopub.execute_input": "2025-01-22T10:45:11.836359Z",
     "iopub.status.busy": "2025-01-22T10:45:11.836134Z",
     "iopub.status.idle": "2025-01-22T10:45:24.594566Z",
     "shell.execute_reply": "2025-01-22T10:45:24.593639Z"
    },
    "papermill": {
     "duration": 12.763179,
     "end_time": "2025-01-22T10:45:24.596256",
     "exception": false,
     "start_time": "2025-01-22T10:45:11.833077",
     "status": "completed"
    },
    "tags": []
   },
   "outputs": [],
   "source": [
    "# load libraries\n",
    "import sqlite3\n",
    "import pandas as pd\n",
    "import seaborn as sns\n",
    "from sklearn.model_selection import train_test_split\n",
    "from sklearn.preprocessing import StandardScaler\n",
    "import tensorflow as tf"
   ]
  },
  {
   "cell_type": "markdown",
   "id": "c2f4a17d",
   "metadata": {
    "papermill": {
     "duration": 0.00252,
     "end_time": "2025-01-22T10:45:24.601797",
     "exception": false,
     "start_time": "2025-01-22T10:45:24.599277",
     "status": "completed"
    },
    "tags": []
   },
   "source": [
    "\n",
    "## Step 1: Load the SQLite Database in Python"
   ]
  },
  {
   "cell_type": "code",
   "execution_count": 2,
   "id": "bb84e7d1",
   "metadata": {
    "execution": {
     "iopub.execute_input": "2025-01-22T10:45:24.607919Z",
     "iopub.status.busy": "2025-01-22T10:45:24.607453Z",
     "iopub.status.idle": "2025-01-22T10:45:27.407720Z",
     "shell.execute_reply": "2025-01-22T10:45:27.406299Z"
    },
    "papermill": {
     "duration": 2.805111,
     "end_time": "2025-01-22T10:45:27.409478",
     "exception": false,
     "start_time": "2025-01-22T10:45:24.604367",
     "status": "completed"
    },
    "tags": []
   },
   "outputs": [
    {
     "name": "stdout",
     "output_type": "stream",
     "text": [
      "                name\n",
      "0    sqlite_sequence\n",
      "1  Player_Attributes\n",
      "2             Player\n",
      "3              Match\n",
      "4             League\n",
      "5            Country\n",
      "6               Team\n",
      "7    Team_Attributes\n",
      "   id  player_fifa_api_id  player_api_id                 date  overall_rating  \\\n",
      "0   1              218353         505942  2016-02-18 00:00:00            67.0   \n",
      "1   2              218353         505942  2015-11-19 00:00:00            67.0   \n",
      "2   3              218353         505942  2015-09-21 00:00:00            62.0   \n",
      "3   4              218353         505942  2015-03-20 00:00:00            61.0   \n",
      "4   5              218353         505942  2007-02-22 00:00:00            61.0   \n",
      "\n",
      "   potential preferred_foot attacking_work_rate defensive_work_rate  crossing  \\\n",
      "0       71.0          right              medium              medium      49.0   \n",
      "1       71.0          right              medium              medium      49.0   \n",
      "2       66.0          right              medium              medium      49.0   \n",
      "3       65.0          right              medium              medium      48.0   \n",
      "4       65.0          right              medium              medium      48.0   \n",
      "\n",
      "   ...  vision  penalties  marking  standing_tackle  sliding_tackle  \\\n",
      "0  ...    54.0       48.0     65.0             69.0            69.0   \n",
      "1  ...    54.0       48.0     65.0             69.0            69.0   \n",
      "2  ...    54.0       48.0     65.0             66.0            69.0   \n",
      "3  ...    53.0       47.0     62.0             63.0            66.0   \n",
      "4  ...    53.0       47.0     62.0             63.0            66.0   \n",
      "\n",
      "   gk_diving  gk_handling  gk_kicking  gk_positioning  gk_reflexes  \n",
      "0        6.0         11.0        10.0             8.0          8.0  \n",
      "1        6.0         11.0        10.0             8.0          8.0  \n",
      "2        6.0         11.0        10.0             8.0          8.0  \n",
      "3        5.0         10.0         9.0             7.0          7.0  \n",
      "4        5.0         10.0         9.0             7.0          7.0  \n",
      "\n",
      "[5 rows x 42 columns]\n"
     ]
    }
   ],
   "source": [
    "# Connect to the SQLite database\n",
    "db_path = '/kaggle/input/soccer/database.sqlite' \n",
    "conn = sqlite3.connect(db_path)\n",
    "\n",
    "# List all available tables\n",
    "tables = pd.read_sql(\"SELECT name FROM sqlite_master WHERE type='table';\", conn)\n",
    "print(tables)\n",
    "\n",
    "query = \"SELECT * FROM Player_Attributes;\"\n",
    "player_attributes = pd.read_sql(query, conn)\n",
    "\n",
    "# Close the connection\n",
    "conn.close()\n",
    "\n",
    "# Preview the data\n",
    "print(player_attributes.head())\n"
   ]
  },
  {
   "cell_type": "markdown",
   "id": "17ba29e2",
   "metadata": {
    "papermill": {
     "duration": 0.00297,
     "end_time": "2025-01-22T10:45:27.415855",
     "exception": false,
     "start_time": "2025-01-22T10:45:27.412885",
     "status": "completed"
    },
    "tags": []
   },
   "source": [
    "## Step 2: Preprocess Data\n"
   ]
  },
  {
   "cell_type": "code",
   "execution_count": 3,
   "id": "0c286c92",
   "metadata": {
    "execution": {
     "iopub.execute_input": "2025-01-22T10:45:27.422285Z",
     "iopub.status.busy": "2025-01-22T10:45:27.422046Z",
     "iopub.status.idle": "2025-01-22T10:45:27.501034Z",
     "shell.execute_reply": "2025-01-22T10:45:27.500131Z"
    },
    "papermill": {
     "duration": 0.084083,
     "end_time": "2025-01-22T10:45:27.502812",
     "exception": false,
     "start_time": "2025-01-22T10:45:27.418729",
     "status": "completed"
    },
    "tags": []
   },
   "outputs": [],
   "source": [
    "#remove warnings\n",
    "import warnings\n",
    "warnings.filterwarnings('ignore')\n",
    "\n",
    "# Select relevant features\n",
    "features = ['potential', 'acceleration', 'sprint_speed', 'agility', 'stamina']\n",
    "target = 'overall_rating'\n",
    "\n",
    "# Drop missing values\n",
    "data = player_attributes[features + [target]].dropna()\n",
    "\n",
    "# Normalize features for NN compatibility\n",
    "from sklearn.preprocessing import MinMaxScaler\n",
    "scaler = MinMaxScaler()\n",
    "data[features] = scaler.fit_transform(data[features])\n",
    "\n",
    "# Split data into training and testing sets\n",
    "X = data[features]\n",
    "y = data[target]\n",
    "\n",
    "X_train, X_test, y_train, y_test = train_test_split(X, y, test_size=0.2, random_state=42)\n"
   ]
  },
  {
   "cell_type": "code",
   "execution_count": 4,
   "id": "7cad7428",
   "metadata": {
    "execution": {
     "iopub.execute_input": "2025-01-22T10:45:27.509826Z",
     "iopub.status.busy": "2025-01-22T10:45:27.509561Z",
     "iopub.status.idle": "2025-01-22T10:45:27.514739Z",
     "shell.execute_reply": "2025-01-22T10:45:27.513963Z"
    },
    "papermill": {
     "duration": 0.009924,
     "end_time": "2025-01-22T10:45:27.516068",
     "exception": false,
     "start_time": "2025-01-22T10:45:27.506144",
     "status": "completed"
    },
    "tags": []
   },
   "outputs": [
    {
     "data": {
      "text/plain": [
       "(145012, 5)"
      ]
     },
     "execution_count": 4,
     "metadata": {},
     "output_type": "execute_result"
    }
   ],
   "source": [
    "X_train.shape"
   ]
  },
  {
   "cell_type": "markdown",
   "id": "7257e65e",
   "metadata": {
    "papermill": {
     "duration": 0.002829,
     "end_time": "2025-01-22T10:45:27.521913",
     "exception": false,
     "start_time": "2025-01-22T10:45:27.519084",
     "status": "completed"
    },
    "tags": []
   },
   "source": [
    "## Step 3: Define and Train a Single-Layer Neural Network"
   ]
  },
  {
   "cell_type": "code",
   "execution_count": 5,
   "id": "fff905d8",
   "metadata": {
    "execution": {
     "iopub.execute_input": "2025-01-22T10:45:27.528363Z",
     "iopub.status.busy": "2025-01-22T10:45:27.528153Z",
     "iopub.status.idle": "2025-01-22T10:46:24.778681Z",
     "shell.execute_reply": "2025-01-22T10:46:24.777885Z"
    },
    "papermill": {
     "duration": 57.255442,
     "end_time": "2025-01-22T10:46:24.780258",
     "exception": false,
     "start_time": "2025-01-22T10:45:27.524816",
     "status": "completed"
    },
    "tags": []
   },
   "outputs": [
    {
     "name": "stdout",
     "output_type": "stream",
     "text": [
      "Epoch 1/10\n",
      "\u001b[1m3626/3626\u001b[0m \u001b[32m━━━━━━━━━━━━━━━━━━━━\u001b[0m\u001b[37m\u001b[0m \u001b[1m7s\u001b[0m 2ms/step - loss: 1750.2365 - mae: 32.7938 - val_loss: 62.4914 - val_mae: 5.9584\n",
      "Epoch 2/10\n",
      "\u001b[1m3626/3626\u001b[0m \u001b[32m━━━━━━━━━━━━━━━━━━━━\u001b[0m\u001b[37m\u001b[0m \u001b[1m5s\u001b[0m 1ms/step - loss: 52.0569 - mae: 5.4623 - val_loss: 23.8426 - val_mae: 3.7815\n",
      "Epoch 3/10\n",
      "\u001b[1m3626/3626\u001b[0m \u001b[32m━━━━━━━━━━━━━━━━━━━━\u001b[0m\u001b[37m\u001b[0m \u001b[1m5s\u001b[0m 1ms/step - loss: 21.2956 - mae: 3.5906 - val_loss: 19.3446 - val_mae: 3.3707\n",
      "Epoch 4/10\n",
      "\u001b[1m3626/3626\u001b[0m \u001b[32m━━━━━━━━━━━━━━━━━━━━\u001b[0m\u001b[37m\u001b[0m \u001b[1m5s\u001b[0m 1ms/step - loss: 19.1891 - mae: 3.4138 - val_loss: 19.1166 - val_mae: 3.3972\n",
      "Epoch 5/10\n",
      "\u001b[1m3626/3626\u001b[0m \u001b[32m━━━━━━━━━━━━━━━━━━━━\u001b[0m\u001b[37m\u001b[0m \u001b[1m5s\u001b[0m 1ms/step - loss: 19.2544 - mae: 3.4283 - val_loss: 19.1179 - val_mae: 3.3944\n",
      "Epoch 6/10\n",
      "\u001b[1m3626/3626\u001b[0m \u001b[32m━━━━━━━━━━━━━━━━━━━━\u001b[0m\u001b[37m\u001b[0m \u001b[1m5s\u001b[0m 1ms/step - loss: 19.1348 - mae: 3.4124 - val_loss: 19.1322 - val_mae: 3.4286\n",
      "Epoch 7/10\n",
      "\u001b[1m3626/3626\u001b[0m \u001b[32m━━━━━━━━━━━━━━━━━━━━\u001b[0m\u001b[37m\u001b[0m \u001b[1m5s\u001b[0m 1ms/step - loss: 19.2329 - mae: 3.4220 - val_loss: 19.1597 - val_mae: 3.3804\n",
      "Epoch 8/10\n",
      "\u001b[1m3626/3626\u001b[0m \u001b[32m━━━━━━━━━━━━━━━━━━━━\u001b[0m\u001b[37m\u001b[0m \u001b[1m5s\u001b[0m 1ms/step - loss: 19.1744 - mae: 3.4143 - val_loss: 19.1119 - val_mae: 3.4003\n",
      "Epoch 9/10\n",
      "\u001b[1m3626/3626\u001b[0m \u001b[32m━━━━━━━━━━━━━━━━━━━━\u001b[0m\u001b[37m\u001b[0m \u001b[1m5s\u001b[0m 1ms/step - loss: 19.1284 - mae: 3.4153 - val_loss: 19.1073 - val_mae: 3.4036\n",
      "Epoch 10/10\n",
      "\u001b[1m3626/3626\u001b[0m \u001b[32m━━━━━━━━━━━━━━━━━━━━\u001b[0m\u001b[37m\u001b[0m \u001b[1m5s\u001b[0m 1ms/step - loss: 19.3070 - mae: 3.4206 - val_loss: 19.1288 - val_mae: 3.4273\n"
     ]
    }
   ],
   "source": [
    "from tensorflow.keras.models import Sequential\n",
    "from tensorflow.keras.layers import Dense\n",
    "\n",
    "# define the layers of the model\n",
    "input_layer = tf.keras.layers.Dense(10, activation = 'linear', input_shape = (X_train.shape[1],))\n",
    "output_layer = tf.keras.layers.Dense(1, activation = 'linear')\n",
    "\n",
    "# Combine the neural network\n",
    "model = tf.keras.models.Sequential([input_layer,\n",
    "                                   output_layer])\n",
    "\n",
    "# Compile the model\n",
    "model.compile(optimizer='adam', loss='mse', metrics=['mae'])\n",
    "\n",
    "# Train the model\n",
    "history = model.fit(X_train, y_train, epochs=10, batch_size=32, validation_split=0.2, verbose=1)\n"
   ]
  },
  {
   "cell_type": "markdown",
   "id": "56e49937",
   "metadata": {
    "papermill": {
     "duration": 0.043541,
     "end_time": "2025-01-22T10:46:24.869461",
     "exception": false,
     "start_time": "2025-01-22T10:46:24.825920",
     "status": "completed"
    },
    "tags": []
   },
   "source": [
    "## Step 4: Evaluate the Model"
   ]
  },
  {
   "cell_type": "code",
   "execution_count": 6,
   "id": "a7636a9e",
   "metadata": {
    "execution": {
     "iopub.execute_input": "2025-01-22T10:46:24.956813Z",
     "iopub.status.busy": "2025-01-22T10:46:24.956454Z",
     "iopub.status.idle": "2025-01-22T10:46:28.576148Z",
     "shell.execute_reply": "2025-01-22T10:46:28.575329Z"
    },
    "papermill": {
     "duration": 3.665316,
     "end_time": "2025-01-22T10:46:28.577769",
     "exception": false,
     "start_time": "2025-01-22T10:46:24.912453",
     "status": "completed"
    },
    "tags": []
   },
   "outputs": [
    {
     "name": "stdout",
     "output_type": "stream",
     "text": [
      "Mean Absolute Error on Test Set: 3.399151086807251\n",
      "\u001b[1m1133/1133\u001b[0m \u001b[32m━━━━━━━━━━━━━━━━━━━━\u001b[0m\u001b[37m\u001b[0m \u001b[1m1s\u001b[0m 1ms/step\n"
     ]
    },
    {
     "data": {
      "image/png": "[encoded data removed]",
      "text/plain": [
       "<Figure size 640x480 with 1 Axes>"
      ]
     },
     "metadata": {},
     "output_type": "display_data"
    }
   ],
   "source": [
    "# Evaluate on the test set\n",
    "loss, mae = model.evaluate(X_test, y_test, verbose=0)\n",
    "print(f\"Mean Absolute Error on Test Set: {mae}\")\n",
    "\n",
    "# Make predictions\n",
    "y_pred = model.predict(X_test)\n",
    "\n",
    "# Plot actual vs. predicted values\n",
    "import matplotlib.pyplot as plt\n",
    "plt.scatter(y_test, y_pred, alpha=0.5)\n",
    "plt.xlabel('Actual Ratings')\n",
    "plt.ylabel('Predicted Ratings')\n",
    "plt.title('Actual vs Predicted Ratings')\n",
    "plt.show()\n"
   ]
  },
  {
   "cell_type": "code",
   "execution_count": 7,
   "id": "79f68685",
   "metadata": {
    "_kg_hide-input": true,
    "execution": {
     "iopub.execute_input": "2025-01-22T10:46:28.670404Z",
     "iopub.status.busy": "2025-01-22T10:46:28.670154Z",
     "iopub.status.idle": "2025-01-22T10:46:28.674670Z",
     "shell.execute_reply": "2025-01-22T10:46:28.674005Z"
    },
    "papermill": {
     "duration": 0.051151,
     "end_time": "2025-01-22T10:46:28.675927",
     "exception": false,
     "start_time": "2025-01-22T10:46:28.624776",
     "status": "completed"
    },
    "tags": []
   },
   "outputs": [
    {
     "name": "stdout",
     "output_type": "stream",
     "text": [
      "Target Range: 59.0\n"
     ]
    }
   ],
   "source": [
    "target_range = y_test.max() - y_test.min()\n",
    "print(f\"Target Range: {target_range}\")"
   ]
  },
  {
   "cell_type": "markdown",
   "id": "9ed44eba",
   "metadata": {
    "papermill": {
     "duration": 0.045369,
     "end_time": "2025-01-22T10:46:28.766210",
     "exception": false,
     "start_time": "2025-01-22T10:46:28.720841",
     "status": "completed"
    },
    "tags": []
   },
   "source": [
    "***If you find this work helpful, your appreciation would be greatly valued. Additionally, I encourage you to explore my other notebooks for further insights and analysis.***"
   ]
  }
 ],
 "metadata": {
  "kaggle": {
   "accelerator": "nvidiaTeslaT4",
   "dataSources": [
    {
     "datasetId": 63,
     "sourceId": 589,
     "sourceType": "datasetVersion"
    }
   ],
   "dockerImageVersionId": 30840,
   "isGpuEnabled": true,
   "isInternetEnabled": true,
   "language": "python",
   "sourceType": "notebook"
  },
  "kernelspec": {
   "display_name": "Python 3",
   "language": "python",
   "name": "python3"
  },
  "language_info": {
   "codemirror_mode": {
    "name": "ipython",
    "version": 3
   },
   "file_extension": ".py",
   "mimetype": "text/x-python",
   "name": "python",
   "nbconvert_exporter": "python",
   "pygments_lexer": "ipython3",
   "version": "3.10.12"
  },
  "papermill": {
   "default_parameters": {},
   "duration": 81.132468,
   "end_time": "2025-01-22T10:46:30.434199",
   "environment_variables": {},
   "exception": null,
   "input_path": "__notebook__.ipynb",
   "output_path": "__notebook__.ipynb",
   "parameters": {},
   "start_time": "2025-01-22T10:45:09.301731",
   "version": "2.6.0"
  }
 },
 "nbformat": 4,
 "nbformat_minor": 5
}
